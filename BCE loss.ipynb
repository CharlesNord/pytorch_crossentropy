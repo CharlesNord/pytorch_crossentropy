{
 "cells": [
  {
   "cell_type": "code",
   "execution_count": 1,
   "metadata": {},
   "outputs": [],
   "source": [
    "import torch\n",
    "import torch.nn.functional as F\n",
    "\n",
    "input = torch.randn(10,1)\n",
    "target = torch.FloatTensor(10, 1).random_(2)"
   ]
  },
  {
   "cell_type": "code",
   "execution_count": 2,
   "metadata": {},
   "outputs": [
    {
     "data": {
      "text/plain": [
       "tensor([[ 0.0250],\n",
       "        [-2.0967],\n",
       "        [-1.0569],\n",
       "        [ 0.5865],\n",
       "        [ 0.8285],\n",
       "        [-1.8605],\n",
       "        [-0.0229],\n",
       "        [ 0.5823],\n",
       "        [ 0.7552],\n",
       "        [-0.5068]])"
      ]
     },
     "execution_count": 2,
     "metadata": {},
     "output_type": "execute_result"
    }
   ],
   "source": [
    "input"
   ]
  },
  {
   "cell_type": "code",
   "execution_count": 3,
   "metadata": {},
   "outputs": [
    {
     "data": {
      "text/plain": [
       "tensor([[ 0.5063],\n",
       "        [ 0.1094],\n",
       "        [ 0.2579],\n",
       "        [ 0.6426],\n",
       "        [ 0.6960],\n",
       "        [ 0.1346],\n",
       "        [ 0.4943],\n",
       "        [ 0.6416],\n",
       "        [ 0.6803],\n",
       "        [ 0.3760]])"
      ]
     },
     "execution_count": 3,
     "metadata": {},
     "output_type": "execute_result"
    }
   ],
   "source": [
    "pred = F.sigmoid(input)\n",
    "pred"
   ]
  },
  {
   "cell_type": "code",
   "execution_count": 4,
   "metadata": {},
   "outputs": [
    {
     "data": {
      "text/plain": [
       "tensor([[ 1.],\n",
       "        [ 1.],\n",
       "        [ 1.],\n",
       "        [ 1.],\n",
       "        [ 0.],\n",
       "        [ 1.],\n",
       "        [ 0.],\n",
       "        [ 0.],\n",
       "        [ 0.],\n",
       "        [ 1.]])"
      ]
     },
     "execution_count": 4,
     "metadata": {},
     "output_type": "execute_result"
    }
   ],
   "source": [
    "target"
   ]
  },
  {
   "cell_type": "code",
   "execution_count": 5,
   "metadata": {},
   "outputs": [],
   "source": [
    "loss_fn = torch.nn.BCELoss()"
   ]
  },
  {
   "cell_type": "code",
   "execution_count": 6,
   "metadata": {},
   "outputs": [
    {
     "data": {
      "text/plain": [
       "tensor(1.1713)"
      ]
     },
     "execution_count": 6,
     "metadata": {},
     "output_type": "execute_result"
    }
   ],
   "source": [
    "loss = loss_fn(pred, target)\n",
    "loss"
   ]
  },
  {
   "cell_type": "markdown",
   "metadata": {},
   "source": [
    "BCE loss 的公式为：\n",
    "\n",
    "$BCE\\_loss = -\\frac{1}{n}\\sum_{i=1}^n target_i\\cdot\\mathrm{log}(pred_i) + (1-target_i)\\cdot\\mathrm{log}(1-pred_i)$\n",
    "\n",
    "从公式中可以看到，其本质与 multi-class crossentropy loss 是一样的，只不过 BCE 只有两种情况，所以把在各类上的循环显式地写在了求和号中。\n",
    "\n",
    "BCE loss 和 multi-class crossentropy loss 的不同之处，在于实现过程：\n",
    "\n",
    "* BCE loss 的网络只有一个输出，并且需要在网络的输出端加上 sigmoid 激活函数，以直接输出属于正类的概率，即 BCE loss 传入的 pred 必须是一个概率\n",
    "* multi-class CE 有几个 class 就有几个输出，不需要指定输出端的激活函数，它内部会把输出端的值通过 softmax 激活函数转变为概率，然后与 target 计算\n",
    "* 两者的 target 都是向量，每个元素代表一个类别，不必手动转换成 one-hot 的形式\n",
    "* BCE loss 的 target 可以是 float 类型，而 multi-class CE 的 target 必须是 long 类型"
   ]
  },
  {
   "cell_type": "code",
   "execution_count": 10,
   "metadata": {},
   "outputs": [
    {
     "data": {
      "text/plain": [
       "tensor(2.1929)"
      ]
     },
     "execution_count": 10,
     "metadata": {},
     "output_type": "execute_result"
    }
   ],
   "source": [
    "input = torch.randn(3, 5)\n",
    "target = torch.LongTensor(3).random_(5)\n",
    "loss_fn = torch.nn.CrossEntropyLoss()\n",
    "loss_fn(input, target)"
   ]
  },
  {
   "cell_type": "code",
   "execution_count": 12,
   "metadata": {},
   "outputs": [],
   "source": [
    "input = torch.randn(10,1)\n",
    "pred = F.sigmoid(input)\n",
    "target = torch.FloatTensor(10, 1).random_(2)"
   ]
  },
  {
   "cell_type": "code",
   "execution_count": 15,
   "metadata": {},
   "outputs": [
    {
     "data": {
      "text/plain": [
       "tensor(0.7844)"
      ]
     },
     "execution_count": 15,
     "metadata": {},
     "output_type": "execute_result"
    }
   ],
   "source": [
    "loss_fn = torch.nn.BCELoss()\n",
    "loss_fn(pred, target)"
   ]
  },
  {
   "cell_type": "code",
   "execution_count": null,
   "metadata": {},
   "outputs": [],
   "source": []
  }
 ],
 "metadata": {
  "kernelspec": {
   "display_name": "Python 3",
   "language": "python",
   "name": "python3"
  },
  "language_info": {
   "codemirror_mode": {
    "name": "ipython",
    "version": 3
   },
   "file_extension": ".py",
   "mimetype": "text/x-python",
   "name": "python",
   "nbconvert_exporter": "python",
   "pygments_lexer": "ipython3",
   "version": "3.6.5"
  }
 },
 "nbformat": 4,
 "nbformat_minor": 2
}
