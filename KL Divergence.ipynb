{
 "cells": [
  {
   "cell_type": "markdown",
   "metadata": {},
   "source": [
    "# KL Divergence in pytorch\n",
    "\n",
    "\n",
    "The original KL divergence equation is as follows:\n",
    "$$\n",
    "D_{KL}(P || Q) = \\int_{-\\infty}^{+\\infty}p(x)\\mathrm{log}\\frac{p(x)}{q(x)}\\mathrm{d}x = \\sum_{i=1}^{N}p_i\\cdot(\\mathrm{log}p_i-\\mathrm{log}q_i)\n",
    "$$\n",
    "\n",
    "\n",
    "The KL divergence in pytorch is calculated by the following equation:\n",
    "$$\n",
    "loss(x, target) = \\frac{1}{n} \\sum(target_i * (log(target_i) - x_i))\n",
    "$$\n",
    "\n",
    "So, when we call the KL divergence in pytorch, the input ($(x_i)$s in the equation above) should be the log of the predicted probability, the target should be the ground truth probability, and the KL divergence should be averaged by the number of elements.\n",
    "\n",
    "In the codes below, we first call the kl_div function, to calculate directely the kl divergence, then we calculate by ourself the kl divergence..\n"
   ]
  },
  {
   "cell_type": "code",
   "execution_count": 1,
   "metadata": {
    "collapsed": false
   },
   "outputs": [
    {
     "name": "stdout",
     "output_type": "stream",
     "text": [
      "Variable containing:\n",
      " 0.3291\n",
      "[torch.FloatTensor of size 1]\n",
      "\n"
     ]
    }
   ],
   "source": [
    "import torch\n",
    "import torch.nn.functional as F\n",
    "\n",
    "input_ = torch.rand(10,1)\n",
    "target_ = torch.rand(10,1)\n",
    "\n",
    "log_input = torch.log(input_)\n",
    "\n",
    "KLD = F.kl_div(log_input, target_)\n",
    "print KLD"
   ]
  },
  {
   "cell_type": "markdown",
   "metadata": {},
   "source": [
    "Now we calculate in seperate way"
   ]
  },
  {
   "cell_type": "code",
   "execution_count": 2,
   "metadata": {
    "collapsed": false
   },
   "outputs": [
    {
     "name": "stdout",
     "output_type": "stream",
     "text": [
      "0.329109419137\n"
     ]
    }
   ],
   "source": [
    "kld = torch.sum(target_*(torch.log(target_)-log_input))/input_.numel()\n",
    "print kld"
   ]
  },
  {
   "cell_type": "markdown",
   "metadata": {},
   "source": [
    "The outputs are consistent."
   ]
  },
  {
   "cell_type": "code",
   "execution_count": null,
   "metadata": {
    "collapsed": true
   },
   "outputs": [],
   "source": []
  }
 ],
 "metadata": {
  "kernelspec": {
   "display_name": "Python 2",
   "language": "python",
   "name": "python2"
  },
  "language_info": {
   "codemirror_mode": {
    "name": "ipython",
    "version": 2
   },
   "file_extension": ".py",
   "mimetype": "text/x-python",
   "name": "python",
   "nbconvert_exporter": "python",
   "pygments_lexer": "ipython2",
   "version": "2.7.12"
  }
 },
 "nbformat": 4,
 "nbformat_minor": 2
}
